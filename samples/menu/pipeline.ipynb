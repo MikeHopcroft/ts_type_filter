{
 "cells": [
  {
   "cell_type": "markdown",
   "metadata": {},
   "source": [
    "# Pipeline Example\n",
    "\n",
    "This notebook implements a [Gotaglio](https://github.com/MikeHopcroft/gotaglio) pipeline that uses\n",
    "`ts-type-filter` to optimize LLM prompts for a ficticious restaurant ordering bot."
   ]
  },
  {
   "cell_type": "markdown",
   "metadata": {},
   "source": [
    "Define your pipeline. In this case we're using the MenuPipeline in `ordering.py`."
   ]
  },
  {
   "cell_type": "code",
   "execution_count": 1,
   "metadata": {},
   "outputs": [],
   "source": [
    "from ordering import MenuPipeline"
   ]
  },
  {
   "cell_type": "markdown",
   "metadata": {},
   "source": [
    "Define your test cases."
   ]
  },
  {
   "cell_type": "code",
   "execution_count": 11,
   "metadata": {},
   "outputs": [],
   "source": [
    "cases = [\n",
    "  {\n",
    "    \"uuid\": \"0f8b936e-eaa3-4417-b4a1-a622228da588\",\n",
    "    \"turns\": [\n",
    "      {\n",
    "        \"query\": \"can I a double wiseguy with no tomatoes and extra mayo\",\n",
    "        \"expected\": {\n",
    "          \"items\": [\n",
    "            {\n",
    "              \"name\": \"Double Wiseguy\",\n",
    "              \"type\": \"CHOOSE\",\n",
    "              \"options\": [\n",
    "                {\n",
    "                  \"amount\": \"No\",\n",
    "                  \"name\": \"Tomato\"\n",
    "                },\n",
    "                {\n",
    "                  \"amount\": \"Extra\",\n",
    "                  \"name\": \"Mayo\"\n",
    "                }\n",
    "              ]\n",
    "            }\n",
    "          ]\n",
    "        }\n",
    "      }\n",
    "    ],\n",
    "  }\n",
    "]\n"
   ]
  },
  {
   "cell_type": "markdown",
   "metadata": {},
   "source": [
    "The next cell reloads packages you may be editing. You must run this cell after each edit to `gotaglio.gotag` or `ordering.MenuPipeline`."
   ]
  },
  {
   "cell_type": "code",
   "execution_count": null,
   "metadata": {},
   "outputs": [],
   "source": [
    "import nest_asyncio\n",
    "import importlib\n",
    "from gotaglio import gotag\n",
    "from gotaglio import shared\n",
    "import ordering\n",
    "\n",
    "# Necessary for running asyncio in Jupyter\n",
    "nest_asyncio.apply()\n",
    "\n",
    "# Reload the gotag module\n",
    "importlib.reload(gotag)\n",
    "\n",
    "# Reload the SimplePipeline module\n",
    "importlib.reload(ordering)\n",
    "# Reload the SimplePipeline module\n",
    "\n",
    "importlib.reload(shared)\n",
    "\n",
    "from gotaglio.gotag import Gotaglio\n",
    "\n",
    "gt = Gotaglio([ordering.MenuPipeline])"
   ]
  },
  {
   "cell_type": "markdown",
   "metadata": {},
   "source": [
    "Run a pipeline and store the result in `runlog1`."
   ]
  },
  {
   "cell_type": "code",
   "execution_count": 12,
   "metadata": {},
   "outputs": [
    {
     "data": {
      "text/html": [
       "<pre style=\"white-space:pre;overflow-x:auto;line-height:normal;font-family:Menlo,'DejaVu Sans Mono',consolas,'Courier New',monospace\"></pre>\n"
      ],
      "text/plain": []
     },
     "metadata": {},
     "output_type": "display_data"
    },
    {
     "name": "stdout",
     "output_type": "stream",
     "text": [
      "\u001b[3m             Summary for             \u001b[0m\n",
      "\u001b[3mf562607c-6b51-4c14-8bd1-55ea52371d6c \u001b[0m\n",
      "┏━━━━━┳━━━━━━━━━━┳━━━━━━━┳━━━━━━━━━━┓\n",
      "┃\u001b[1m \u001b[0m\u001b[1m id\u001b[0m\u001b[1m \u001b[0m┃\u001b[1m \u001b[0m\u001b[1mrun     \u001b[0m\u001b[1m \u001b[0m┃\u001b[1m \u001b[0m\u001b[1mscore\u001b[0m\u001b[1m \u001b[0m┃\u001b[1m \u001b[0m\u001b[1mkeywords\u001b[0m\u001b[1m \u001b[0m┃\n",
      "┡━━━━━╇━━━━━━━━━━╇━━━━━━━╇━━━━━━━━━━┩\n",
      "│\u001b[36m \u001b[0m\u001b[36m0f8\u001b[0m\u001b[36m \u001b[0m│\u001b[35m \u001b[0m\u001b[1;32mCOMPLETE\u001b[0m\u001b[35m \u001b[0m│\u001b[32m \u001b[0m\u001b[1;32m 0.00\u001b[0m\u001b[32m \u001b[0m│\u001b[32m \u001b[0m\u001b[32m        \u001b[0m\u001b[32m \u001b[0m│\n",
      "└─────┴──────────┴───────┴──────────┘\n",
      "\n",
      "Total: \u001b[1;36m1\u001b[0m\n",
      "Complete: \u001b[1;36m1\u001b[0m/\u001b[1;36m1\u001b[0m \u001b[1m(\u001b[0m\u001b[1;36m100.00\u001b[0m%\u001b[1m)\u001b[0m\n",
      "Error: \u001b[1;36m0\u001b[0m/\u001b[1;36m1\u001b[0m \u001b[1m(\u001b[0m\u001b[1;36m0.00\u001b[0m%\u001b[1m)\u001b[0m\n",
      "Passed: \u001b[1;36m1\u001b[0m/\u001b[1;36m1\u001b[0m \u001b[1m(\u001b[0m\u001b[1;36m100.00\u001b[0m%\u001b[1m)\u001b[0m\n",
      "Failed: \u001b[1;36m0\u001b[0m/\u001b[1;36m1\u001b[0m \u001b[1m(\u001b[0m\u001b[1;36m0.00\u001b[0m%\u001b[1m)\u001b[0m\n",
      "\n",
      "\n",
      "Results written to logs\\f562607c-6b51-4c14-8bd1-55ea52371d6c.json\n"
     ]
    }
   ],
   "source": [
    "runlog1 = gt.run(\"menu\", cases, {\"prepare.template\": \"template.txt\", \"infer.model.name\": \"perfect\"},  save=True)"
   ]
  },
  {
   "cell_type": "markdown",
   "metadata": {},
   "source": [
    "Format the results as markdown."
   ]
  },
  {
   "cell_type": "code",
   "execution_count": 10,
   "metadata": {},
   "outputs": [
    {
     "data": {
      "text/html": [
       "<pre style=\"white-space:pre;overflow-x:auto;line-height:normal;font-family:Menlo,'DejaVu Sans Mono',consolas,'Courier New',monospace\"></pre>\n"
      ],
      "text/plain": []
     },
     "metadata": {},
     "output_type": "display_data"
    },
    {
     "data": {
      "text/markdown": [
       "## Run: 90f00141-9bef-45f3-b28d-b7ede00506e9\n",
       "## Case: 0f8\n",
       "**PASSED**  \n",
       "\n",
       "Keywords:   \n",
       "Complete menu tokens: 1244  \n",
       "Input tokens: 419, output tokens: 50\n",
       "\n",
       "**system:**\n",
       "```json\n",
       "Your job is to convert text-based restaurant orders into JSON data structures.\n",
       "You never return a text answer. You always generate a JSON data structure.\n",
       "The JSON should conform to the following typescript type definition for type `Cart`:\n",
       "\n",
       "~~~typescript\n",
       "type Cart={items:Item[]};\n",
       "type Item=WiseguyMeal<ComboSizes>|Wiseguy|PattyMelt|Burger|KoreanChicken;\n",
       "type WiseguyMeal<SIZE extends ComboSizes>={name:\"Wiseguy \n",
       "Meal\",size:SIZE,sandwich:Wiseguy|CHOOSE,fries:CHOOSE,drink:ChooseDrink};\n",
       "type ComboSizes=\"CHOOSE\";\n",
       "type Wiseguy=GenericWiseguy<\"Wiseguy\"|\"Vegan Wiseguy\"|\"Double Wiseguy\"|\"Triple Wiseguy\"|\"Down East Wiseguy\">;\n",
       "type GenericWiseguy<NAME>={name:NAME,type:\"Regular\"|\"With Bacon\"|\"With Cheese\"|\"With Bacon and \n",
       "Cheese\"|CHOOSE,options?:Veggies};\n",
       "// Use CHOOSE when customer doesn't specify an option\n",
       "type CHOOSE=\"CHOOSE\";\n",
       "type Veggies={amount:ExtraAmount,name:\"Tomato\"};\n",
       "type ExtraAmount=\"No\"|\"Regular\"|\"extra\";\n",
       "type ChooseDrink=\"CHOOSE\";\n",
       "type PattyMelt={name:\"Mushroom and Swiss Melt\",options?:(Veggies|Condiments)[]};\n",
       "type Condiments={amount:Amount,name:\"Mayo\"};\n",
       "type Amount=\"No\"|\"Regular\"|\"Extra\";\n",
       "type Burger=GenericBurger<\"Bacon Double Cheeseburger\"|\"Bacon Cheeseburger\"|\"Double Cheeseburger\"|\"Cheeseburger\">;\n",
       "type GenericBurger<NAME>={name:NAME,options?:(Veggies|Condiments)[]};\n",
       "type KoreanChicken={name:\"Sweet and Spicy Chicken\",options?:(Veggies|Condiments)[]};\n",
       "~~~\n",
       "\n",
       "Return the JSON object of type `Cart`.\n",
       "```\n",
       "\n",
       "**assistant:**\n",
       "```json\n",
       "{\n",
       "  \"items\": []\n",
       "}\n",
       "```\n",
       "\n",
       "**user:** _can I a double wiseguy with no tomatoes and extra mayo_\n",
       "\n",
       "**assistant:**\n",
       "```json\n",
       "{\n",
       "  \"items\": [\n",
       "    {\n",
       "      \"name\": \"Double Wiseguy\",\n",
       "      \"type\": \"CHOOSE\",\n",
       "      \"options\": [\n",
       "        {\n",
       "          \"amount\": \"No\",\n",
       "          \"name\": \"Tomato\"\n",
       "        },\n",
       "        {\n",
       "          \"amount\": \"Extra\",\n",
       "          \"name\": \"Mayo\"\n",
       "        }\n",
       "      ]\n",
       "    }\n",
       "  ]\n",
       "}\n",
       "```\n",
       "\n",
       "**No repairs**\n",
       "\n",
       "**Full query**:\n",
       "* can I a double wiseguy with no tomatoes and extra mayo\n"
      ],
      "text/plain": [
       "<IPython.core.display.Markdown object>"
      ]
     },
     "metadata": {},
     "output_type": "display_data"
    }
   ],
   "source": [
    "gt.format(runlog1)"
   ]
  },
  {
   "cell_type": "markdown",
   "metadata": {},
   "source": [
    "Rerun with gpt4o (requires configuration of model credentials). Equivalent to running\n",
    "\n",
    "~~~bash\n",
    "gotag run menu samples\\menu\\cases2.json infer.model.name=gpt4o\n",
    "~~~"
   ]
  },
  {
   "cell_type": "code",
   "execution_count": null,
   "metadata": {},
   "outputs": [],
   "source": [
    "runlog2 = gt.rerun(runlog1, {\"prepare.template\": \"template.txt\", \"infer.model.name\": \"gpt4o\"})\n",
    "gt.format(runlog2)  "
   ]
  }
 ],
 "metadata": {
  "kernelspec": {
   "display_name": ".venv",
   "language": "python",
   "name": "python3"
  },
  "language_info": {
   "codemirror_mode": {
    "name": "ipython",
    "version": 3
   },
   "file_extension": ".py",
   "mimetype": "text/x-python",
   "name": "python",
   "nbconvert_exporter": "python",
   "pygments_lexer": "ipython3",
   "version": "3.12.9"
  }
 },
 "nbformat": 4,
 "nbformat_minor": 2
}
