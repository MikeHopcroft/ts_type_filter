{
 "cells": [
  {
   "cell_type": "markdown",
   "id": "3c793f72",
   "metadata": {},
   "source": [
    "# Type Filtering Pipeline Example\n",
    "\n",
    "This notebook implements a [Gotaglio](https://github.com/MikeHopcroft/gotaglio) pipeline that uses\n",
    "`ts-type-filter` to optimize LLM prompts for a ficticious restaurant ordering bot. The user can can ask the bot for items from the [menu](./menu.ts) and the bot will update a shopping cart. The conversation can continue through multiple turns, each of which modifies the cart."
   ]
  },
  {
   "cell_type": "markdown",
   "id": "1a4c7ea8",
   "metadata": {},
   "source": [
    "In this example we'll be using a using the `MenuPipeline` class defined in [menu_pipeline.py](./menu_pipeline.py).\n",
    "First we create an instance of `Gotaglio` that knows about this pipeline.\n",
    "\n",
    "- The first parameter is the list of pipeline classes.\n",
    "- The second parameter overrides the default Gotaglio configuration. I intend to put my model configuration (models.json) and credentials (.credentials.json) files at the root of this repo. Since this notebook file is two levels down in samples/menu, I set the `base_folder` property to `../..`. Alternatively I could have put the configuration files in the same folder as this notebook, but I want to be able to share them across all samples.\n"
   ]
  },
  {
   "cell_type": "code",
   "execution_count": null,
   "id": "05089708",
   "metadata": {},
   "outputs": [
    {
     "ename": "AttributeError",
     "evalue": "module 'samples.menu.menu_pipeline' has no attribute 'MenuPipeline'",
     "output_type": "error",
     "traceback": [
      "\u001b[31m---------------------------------------------------------------------------\u001b[39m",
      "\u001b[31mAttributeError\u001b[39m                            Traceback (most recent call last)",
      "\u001b[36mCell\u001b[39m\u001b[36m \u001b[39m\u001b[32mIn[1]\u001b[39m\u001b[32m, line 4\u001b[39m\n\u001b[32m      1\u001b[39m \u001b[38;5;28;01mfrom\u001b[39;00m\u001b[38;5;250m \u001b[39m\u001b[34;01mgotaglio\u001b[39;00m\u001b[34;01m.\u001b[39;00m\u001b[34;01mgotag\u001b[39;00m\u001b[38;5;250m \u001b[39m\u001b[38;5;28;01mimport\u001b[39;00m Gotaglio, read_json_file\n\u001b[32m      2\u001b[39m \u001b[38;5;28;01mimport\u001b[39;00m\u001b[38;5;250m \u001b[39m\u001b[34;01msamples\u001b[39;00m\u001b[34;01m.\u001b[39;00m\u001b[34;01mmenu\u001b[39;00m\u001b[34;01m.\u001b[39;00m\u001b[34;01mmenu_pipeline\u001b[39;00m\u001b[38;5;250m \u001b[39m\u001b[38;5;28;01mas\u001b[39;00m\u001b[38;5;250m \u001b[39m\u001b[34;01msample\u001b[39;00m\n\u001b[32m----> \u001b[39m\u001b[32m4\u001b[39m gt = Gotaglio([\u001b[43msample\u001b[49m\u001b[43m.\u001b[49m\u001b[43mMenuPipeline\u001b[49m], {\u001b[33m\"\u001b[39m\u001b[33mbase_folder\u001b[39m\u001b[33m\"\u001b[39m: \u001b[33m\"\u001b[39m\u001b[33m../..\u001b[39m\u001b[33m\"\u001b[39m})\n",
      "\u001b[31mAttributeError\u001b[39m: module 'samples.menu.menu_pipeline' has no attribute 'MenuPipeline'"
     ]
    }
   ],
   "source": [
    "from gotaglio.gotag import Gotaglio, read_json_file\n",
    "import samples.menu.menu_pipeline as sample\n",
    "\n",
    "gt = Gotaglio([sample.menu_pipeline_spec], {\"base_folder\": \"../..\"})"
   ]
  },
  {
   "cell_type": "markdown",
   "id": "087a8da1",
   "metadata": {},
   "source": [
    "We'd like to run `MenuPipeline` on the cases in [data/cases.json](./data/cases.json). These are multi-turn test cases that have an initial shopping `cart` prooperty and an array of `turns`, each of which has a user `query` and an `expected` cart. Each test case also has a `uuid` and an optional `keywords` array.\n",
    "\n",
    "In the following code, we read `cases.json` and then we use `gt.run()` to run the flattened cases:\n",
    "* The first parameter specifies the name of the pipeline we want to run. We have to specify a name because `Gotaglio` can be instantiated with multiple pipelines. The pipeline name is specified in the `_name` static member of the class implementing the pipeline.\n",
    "* The second parameter provides the test cases. You can either pass the path to a json file with the test cases, or you can pass a dictionary. In this case we pass a dictionary because we want to use the result of `flatten_cases()`.\n",
    "* The third parameter is a dictionary of [glom](https://glom.readthedocs.io/en/latest/)-paths to pipeline configuration value overrides. We specify [data/template.txt](./data/template.txt) as a [jinja2](https://pypi.org/project/Jinja2/) template for the LLM prompt. We specify the built-in `perfect` model that always gives the correct answer.\n",
    "* The `save` parameter indicates that the run log should also be written to the default log location. Run logs are useful for analysis and as a starting point for new runs with some configuration changes. In this notebook, the default log location is the log folder in the folder where this notebook resides.\n",
    "\n",
    "Finally, we use `gt.format()` to display a richly formatted transcript of each case."
   ]
  },
  {
   "cell_type": "code",
   "execution_count": null,
   "id": "f452ee00",
   "metadata": {},
   "outputs": [],
   "source": [
    "# Load the JSON file\n",
    "cases = read_json_file(\"data/cases.json\")\n",
    "\n",
    "# Run the pipeline on the flattened cases.\n",
    "runlog1 = gt.run(\n",
    "    \"menu\",\n",
    "    cases,\n",
    "    {\n",
    "        \"prepare.menu\": \"data/menu.ts\",\n",
    "        \"prepare.template\": \"data/template.txt\",\n",
    "        \"infer.model.name\": \"gpt4o\",\n",
    "    },\n",
    "    save=True,\n",
    ")\n",
    "\n",
    "# Format the results.\n",
    "gt.format(runlog1)"
   ]
  }
 ],
 "metadata": {
  "kernelspec": {
   "display_name": ".venv (3.12.9)",
   "language": "python",
   "name": "python3"
  },
  "language_info": {
   "codemirror_mode": {
    "name": "ipython",
    "version": 3
   },
   "file_extension": ".py",
   "mimetype": "text/x-python",
   "name": "python",
   "nbconvert_exporter": "python",
   "pygments_lexer": "ipython3",
   "version": "3.12.10"
  }
 },
 "nbformat": 4,
 "nbformat_minor": 5
}
