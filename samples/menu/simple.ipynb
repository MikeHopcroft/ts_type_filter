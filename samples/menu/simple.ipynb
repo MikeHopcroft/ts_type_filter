{
 "cells": [
  {
   "cell_type": "markdown",
   "metadata": {},
   "source": [
    "# Simple Code Example\n",
    "\n",
    "This notebook demonstrates the code to load, parse, prune, and serialize type definitions.\n",
    "\n",
    "Since ts_type_filter is all about reducing LLM prompt size, we'll\n",
    "bring in [tiktoken](https://github.com/openai/tiktoken) so that we can measure the number of tokens in\n",
    "the original and pruned type definitions."
   ]
  },
  {
   "cell_type": "code",
   "execution_count": 1,
   "metadata": {},
   "outputs": [],
   "source": [
    "import tiktoken\n",
    "\n",
    "tokenizer = tiktoken.get_encoding(\"cl100k_base\")"
   ]
  },
  {
   "cell_type": "markdown",
   "metadata": {},
   "source": [
    "Next we'll implement some simple functions to parse typescript types, index their string literals, and perform pruning."
   ]
  },
  {
   "cell_type": "code",
   "execution_count": 2,
   "metadata": {},
   "outputs": [],
   "source": [
    "from ts_type_filter import (\n",
    "    collect_string_literals,\n",
    "    build_type_index,\n",
    "    build_filtered_types,\n",
    "    parse\n",
    ")\n",
    "\n",
    "# Read the contents of menu.ts into a string.\n",
    "# Use utf8 because of terms like \"jalapeño\".\n",
    "filename = \"junk.ts\"\n",
    "with open(filename, \"r\", encoding=\"utf-8\") as file:\n",
    "  menu_text = file.read()\n",
    "\n",
    "# Parse the TypeScript type definitions\n",
    "type_defs = parse(menu_text)\n",
    "\n",
    "# Create an index of terms in string literals found in the type definitions\n",
    "symbols, indexer = build_type_index(type_defs)\n",
    "\n",
    "# Function to prunes the type definitions to include only those branches\n",
    "#  involvingterms from the shopping cart data structure and user query.\n",
    "def prune(cart, user_query):\n",
    "  cart_literals = collect_string_literals(cart)\n",
    "  full_query = [user_query] + cart_literals\n",
    "  pruned = build_filtered_types(type_defs, symbols, indexer, full_query)\n",
    "  return pruned\n",
    "\n",
    "# Function to print out the token count, followed by the the pruned type\n",
    "# definitions.\n",
    "def format(types):\n",
    "  text = \"\\n\".join([x.format() for x in types])\n",
    "  encoding = tokenizer.encode(text)\n",
    "  print(f\"Tokens: {len(encoding)}\\n\")\n",
    "  print(text)"
   ]
  },
  {
   "cell_type": "markdown",
   "metadata": {},
   "source": [
    "### Original Menu\n",
    "\n",
    "First let's look at the unpruned menu."
   ]
  },
  {
   "cell_type": "code",
   "execution_count": 3,
   "metadata": {},
   "outputs": [
    {
     "name": "stdout",
     "output_type": "stream",
     "text": [
      "Tokens: 1274\n",
      "\n",
      "type Cart={items:Item[]};\n",
      "type Item=WiseguyMeal<ComboSizes>|Meal<ComboSizes>|Wiseguy|PattyMelt|Burger|Chicken|KoreanChicken|Pitas|Fish|ComboTwo|ComboThree|FrenchFries<any>|OtherFries<any,any>|FountainDrink<any,any>;\n",
      "type WiseguyMeal<SIZE extends ComboSizes>={name:\"Wiseguy Meal\",size:SIZE,sandwich:Wiseguy|CHOOSE,fries:FrenchFries<SIZE>|CHOOSE,drink:ChooseDrink};\n",
      "type Meal<SIZE extends ComboSizes>={name:\"Meal\",size:SIZE,sandwich:Wiseguy|PattyMelt|Burger|Chicken|KoreanChicken|Pitas|Fish|CHOOSE,fries:FrenchFries<SIZE>|CHOOSE,drink:ChooseDrink};\n",
      "type ComboTwo={name:\"Twofer Combo\",one:TwoThreeChoices,two:TwoThreeChoices};\n",
      "type ComboThree={name:\"Threefer Combo\",one:TwoThreeChoices,two:TwoThreeChoices,three:TwoThreeChoices};\n",
      "type TwoThreeChoices=Wiseguy|GenericChicken<\"Grilled Chicken Sandwich\">|GenericBurger<\"Bacon Cheeseburger\">|FrenchFries<\"Medium\">|OtherFries<\"Jalapeño Poppers\",\"6 Piece\">|FountainDrink<\"Coca-Cola\"|\"Diet Coke\"|\"Dr. Pepper\"|\"Sprite\",\"Medium\">|CHOOSE;\n",
      "type Wiseguy=GenericWiseguy<\"Wiseguy\"|\"Vegan Wiseguy\"|\"Double Wiseguy\"|\"Triple Wiseguy\"|\"Down East Wiseguy\">;\n",
      "type GenericWiseguy<NAME>={name:NAME,type:\"Regular\"|\"With Bacon\"|\"With Cheese\"|\"With Bacon and Cheese\"|CHOOSE,options?:Veggies|Sauces};\n",
      "type PattyMelt={name:\"Hero Melt\"|\"Bacon Melt\"|\"Mushroom and Swiss Melt\",options?:(Veggies|Bacon|Cheeses|Sauces|Condiments)[]};\n",
      "type Burger=GenericBurger<\"Bacon Double Cheeseburger\"|\"Bacon Cheeseburger\"|\"Double Cheeseburger\"|\"Cheeseburger\">;\n",
      "type GenericBurger<NAME>={name:NAME,options?:(Veggies|Bacon|Cheeses|Sauces|Condiments|Preparations|Extras)[]};\n",
      "type Chicken=GenericChicken<\"Grilled Chicken Sandwich\"|\"Cordon Bleu\">;\n",
      "type GenericChicken<NAME>={name:NAME,options?:(Veggies|Bacon|GenericCheese<\"American Cheese\">|Condiments)[]};\n",
      "type KoreanChicken={name:\"Sweet and Spicy Chicken\"|\"Seasame Soy Chicken\"|\"Spicy Garlic Chicken\",options?:(Veggies|Bacon|Cheeses|Sauces|Condiments|Preparations|Extras)[]};\n",
      "type Pitas={name:\"Lemon Chicken Pita\"|\"Smokey Chicken Pita\"|\"Tangy Chicken Pita\",options?:(Veggies|Bacon|Cheeses|Sauces|Condiments|Extras)[]};\n",
      "type Fish={name:\"Captain Nemo Burger\",options?:(Veggies|Bacon|Cheeses|Condiments|Preparations|Extras)[]};\n",
      "type FrenchFries<SIZE extends FrenchFrySizes>={name:\"French Fries\"|\"Onion Rings\"|\"Sweet Potato Fries\",size:SIZE};\n",
      "type FrenchFrySizes=\"Value\"|\"Small\"|\"Medium\"|\"Large\"|CHOOSE;\n",
      "type OtherFries<NAME extends \"Jalapeño Poppers\"|\"Mozzarella Sticks\",SIZE extends OtherFriesSizes>={name:NAME,size:SIZE,sauce:DippingSauce|CHOOSE};\n",
      "type OtherFriesSizes=\"6 Piece\"|\"12 Piece\"|CHOOSE;\n",
      "type ComboSizes=\"Small\"|\"Medium\"|\"Large\"|CHOOSE;\n",
      "type ChooseDrink=FountainDrink<any,any>|CHOOSE;\n",
      "type FountainDrink<NAME extends DrinkNames,SIZE extends DrinkSizes>={name:NAME,size:SIZE,options?:Ice[]};\n",
      "type DrinkSizes=\"Value\"|\"Small\"|\"Medium\"|\"Large\"|CHOOSE;\n",
      "type DrinkNames=\"Coca-Cola\"|\"Diet Coke\"|\"Coca-Cola Zero Sugar\"|\"Dr. Pepper\"|\"Dr. Pepper\"|\"Root Beer\"|\"Diet Root Beer\"|\"Sprite\"|\"Sprite Zero\"|\"Sweetened Tea\"|\"Unsweetened Tea\"|\"Strawberry Lemonade\"|\"Arnold Palmer\"|LITERAL<\"Powerade Zero\",\"Gatoraid\",false>;\n",
      "type Ice={name:\"Ice\",amount:\"Regular\"|\"Light\"|\"No\"};\n",
      "type Veggies={amount:ExtraAmount,name:\"Lettuce\"|\"Tomato\"|\"Onion\"|\"Pickles\"|\"Jalapeños\"};\n",
      "type Cheeses=GenericCheese<\"American Cheese\"|\"Cheddar Cheese\"|\"Swiss Cheese\">;\n",
      "type GenericCheese<NAME>={name:NAME,amount:Optional};\n",
      "type Bacon={amount:Optional,name:\"Bacon\"};\n",
      "type Condiments={amount:Amount,name:\"Ketchup\"|\"Mustard\"|\"Mayo\"|\"BBQ\"};\n",
      "type Sauces={amount:Amount,name:\"Smokey Sauce\"|\"Green Goddess Sauce\"};\n",
      "type DippingSauce={name:\"BBQ Dipping Sauce\"|\"Buffalo Dipping Sauce\"|\"Cool Ranch Dipping Sauce\"|\"Honey Mustard Dipping Sauce\"|\"Nacho Dipping Sauce\"|\"None\"};\n",
      "type Extras={amount:ExtraAmount,name:\"Onion Rings\"|\"Jalapeños\"};\n",
      "type Preparations={amount:Optional,name:\"Cut in Half\"|\"Plain\"|\"Low Carb\"};\n",
      "type Amounts=Amount|ExtraAmount|Optional;\n",
      "type Amount=\"No\"|\"Light\"|\"Regular\"|\"Extra\";\n",
      "type ExtraAmount=\"No\"|\"Regular\"|\"extra\";\n",
      "type Optional=\"No\"|\"Regular\";\n",
      "// Use CHOOSE when customer doesn't specify an option\n",
      "type CHOOSE=\"CHOOSE\";\n",
      "type LITERAL<NAME,ALIASES,IS_OPTIONAL>=NAME;\n"
     ]
    }
   ],
   "source": [
    "format(type_defs)"
   ]
  },
  {
   "cell_type": "markdown",
   "metadata": {},
   "source": [
    "### Pruning the menu\n",
    "\n",
    "Now let's prune the menu to retain the portions relevant to the user\n",
    "query `wiseguy with no tomatoes` when the cart contains a `Coca-Cola`.\n",
    "Note that the pruned menu has about one sixth the tokens of the unpruned menu.\n",
    "\n",
    "~~~\n",
    "TODO: restore `CHOOSE` comment.\n",
    "~~~"
   ]
  },
  {
   "cell_type": "code",
   "execution_count": 4,
   "metadata": {},
   "outputs": [
    {
     "name": "stdout",
     "output_type": "stream",
     "text": [
      "Tokens: 248\n",
      "\n",
      "type Cart={items:Item[]};\n",
      "type Item=WiseguyMeal<ComboSizes>|Wiseguy|FountainDrink<any,any>;\n",
      "type WiseguyMeal<SIZE extends ComboSizes>={name:\"Wiseguy Meal\",size:SIZE,sandwich:Wiseguy|CHOOSE,fries:CHOOSE,drink:ChooseDrink};\n",
      "type ComboSizes=\"Large\"|CHOOSE;\n",
      "type CHOOSE=\"CHOOSE\";\n",
      "type Wiseguy=GenericWiseguy<\"Wiseguy\"|\"Vegan Wiseguy\"|\"Double Wiseguy\"|\"Triple Wiseguy\"|\"Down East Wiseguy\">;\n",
      "type GenericWiseguy<NAME>={name:NAME,type:\"Regular\"|\"With Bacon\"|\"With Cheese\"|\"With Bacon and Cheese\"|CHOOSE,options?:Veggies};\n",
      "type Veggies={amount:ExtraAmount,name:\"Tomato\"};\n",
      "type ExtraAmount=\"No\"|\"Regular\";\n",
      "type ChooseDrink=FountainDrink<any,any>|CHOOSE;\n",
      "type FountainDrink<NAME extends DrinkNames,SIZE extends DrinkSizes>={name:NAME,size:SIZE};\n",
      "type DrinkNames=\"Coca-Cola\"|\"Coca-Cola Zero Sugar\";\n",
      "type DrinkSizes=\"Large\"|CHOOSE;\n"
     ]
    }
   ],
   "source": [
    "format(prune({\"items\": [{\"name\": \"Coca-Cola\", \"size\": \"Large\"}]}, \"wiseguy with no tomatoes\"))"
   ]
  },
  {
   "cell_type": "markdown",
   "metadata": {},
   "source": [
    "Note that the alias `coke` will keep prevent `Coca-Cola` and `Coca-Cola Zero Sugar` from getting pruned. \n",
    "This is because the `LITERAL` template is used to provide the `coke` alias.\n",
    "\n",
    "~~~typescript\n",
    "type DrinkNames =\n",
    "  | LITERAL<\"Coca-Cola\", [\"coca\", \"cola\", \"coke\"], false>\n",
    "  | LITERAL<\"Diet Coke\", [\"coca\", \"cola\"], false>\n",
    "  | LITERAL<\"Coca-Cola Zero Sugar\", [\"coca\", \"cola\", \"coke\", \"diet\"], false>\n",
    "  | LITERAL<\"Dr. Pepper\", [\"doctor\"], false>\n",
    "  | \"Dr. Pepper\"\n",
    "  | \"Root Beer\"\n",
    "  | \"Diet Root Beer\"\n",
    "  | \"Sprite\"\n",
    "  | \"Sprite Zero\"\n",
    "  | \"Sweetened Tea\"\n",
    "  | \"Unsweetened Tea\"\n",
    "  | \"Strawberry Lemonade\"\n",
    "  | LITERAL<\"Arnold Palmer\", [\"iced tea lemonade\"], false>\n",
    "  | LITERAL<\"Powerade Zero\", \"Gatoraid\", false>;\n",
    "~~~\n",
    "\n",
    "Also note that `CHOOSE` is not pruned because the `LITERAL` template is used to pin it.\n",
    "\n",
    "~~~typescript\n",
    "// Hint: Use CHOOSE when customer doesn't specify an option\n",
    "type CHOOSE = LITERAL<\"CHOOSE\", [], true>;\n",
    "~~~"
   ]
  },
  {
   "cell_type": "code",
   "execution_count": 6,
   "metadata": {},
   "outputs": [
    {
     "name": "stdout",
     "output_type": "stream",
     "text": [
      "Tokens: 66\n",
      "\n",
      "type Cart={items:Item[]};\n",
      "type Item=FountainDrink<any,any>;\n",
      "type FountainDrink<NAME extends DrinkNames,SIZE extends DrinkSizes>={name:NAME,size:SIZE};\n",
      "type DrinkNames=\"Coca-Cola\"|\"Diet Coke\"|\"Coca-Cola Zero Sugar\";\n",
      "type DrinkSizes=\"CHOOSE\";\n"
     ]
    }
   ],
   "source": [
    "format(prune({\"items\": []}, \"a coke\"))"
   ]
  }
 ],
 "metadata": {
  "kernelspec": {
   "display_name": ".venv",
   "language": "python",
   "name": "python3"
  },
  "language_info": {
   "codemirror_mode": {
    "name": "ipython",
    "version": 3
   },
   "file_extension": ".py",
   "mimetype": "text/x-python",
   "name": "python",
   "nbconvert_exporter": "python",
   "pygments_lexer": "ipython3",
   "version": "3.12.9"
  }
 },
 "nbformat": 4,
 "nbformat_minor": 2
}
